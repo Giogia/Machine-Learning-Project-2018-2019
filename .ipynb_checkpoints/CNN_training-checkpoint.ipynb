{
 "cells": [
  {
   "cell_type": "markdown",
   "metadata": {
    "colab_type": "text",
    "id": "view-in-github"
   },
   "source": [
    "<a href=\"https://colab.research.google.com/github/Giogia/Machine-Learning-Project-2018-2019/blob/master/Let's%20play%20with%20CNN.ipynb\" target=\"_parent\"><img src=\"https://colab.research.google.com/assets/colab-badge.svg\" alt=\"Open In Colab\"/></a>"
   ]
  },
  {
   "cell_type": "code",
   "execution_count": 1,
   "metadata": {
    "colab": {},
    "colab_type": "code",
    "id": "AyVVsSkXDKSV"
   },
   "outputs": [],
   "source": [
    "# TensorFlow and tf.keras\n",
    "import tensorflow as tf\n",
    "from tensorflow import keras\n",
    "\n",
    "# Helper libraries\n",
    "import numpy as np\n",
    "import matplotlib.pyplot as plt"
   ]
  },
  {
   "cell_type": "code",
   "execution_count": 2,
   "metadata": {
    "colab": {},
    "colab_type": "code",
    "id": "rU7obrZkqVtc"
   },
   "outputs": [],
   "source": [
    "def randomize(a, b):\n",
    "    # Generate the permutation index array.\n",
    "    s = np.arange(a.shape[0])\n",
    "    np.random.shuffle(s)\n",
    "    # Shuffle the arrays by giving the permutation in the square brackets.\n",
    "    shuffled_a = a[s]\n",
    "    shuffled_b = b[s]\n",
    "    return shuffled_a, shuffled_b"
   ]
  },
  {
   "cell_type": "code",
   "execution_count": 3,
   "metadata": {
    "colab": {
     "base_uri": "https://localhost:8080/",
     "height": 54
    },
    "colab_type": "code",
    "id": "F5PisKxnDefD",
    "outputId": "562a1ae7-9fdf-4c47-8f3d-103208a6953d"
   },
   "outputs": [],
   "source": [
    "# Download dataset from Keras\n",
    "fashion_mnist = keras.datasets.fashion_mnist\n",
    "\n",
    "(train_img, train_labels), (test_img, test_labels) = fashion_mnist.load_data()\n",
    "\n",
    "train_img, train_labels = randomize(train_img, train_labels)\n",
    "\n",
    "\n",
    "class_names = ['T-shirt/top', 'Trouser', 'Pullover', 'Dress', 'Coat', \n",
    "               'Sandal', 'Shirt', 'Sneaker', 'Bag', 'Ankle boot']\n",
    "\n",
    "train_img = train_img / 255.0\n",
    "test_img = test_img / 255.0\n",
    "\n",
    "limit = int(len(train_img)*0.2)\n",
    "\n",
    "eval_img = train_img[:limit]\n",
    "eval_labels = train_labels[:limit]\n",
    "\n",
    "train_img = train_img[limit:]\n",
    "train_labels = train_labels[limit:]"
   ]
  },
  {
   "cell_type": "code",
   "execution_count": 4,
   "metadata": {
    "colab": {},
    "colab_type": "code",
    "id": "4dufJsucEKMd"
   },
   "outputs": [
    {
     "name": "stdout",
     "output_type": "stream",
     "text": [
      "WARNING:tensorflow:From /usr/local/lib/python3.7/site-packages/tensorflow/python/ops/resource_variable_ops.py:435: colocate_with (from tensorflow.python.framework.ops) is deprecated and will be removed in a future version.\n",
      "Instructions for updating:\n",
      "Colocations handled automatically by placer.\n",
      "WARNING:tensorflow:From /usr/local/lib/python3.7/site-packages/tensorflow/python/keras/layers/core.py:143: calling dropout (from tensorflow.python.ops.nn_ops) with keep_prob is deprecated and will be removed in a future version.\n",
      "Instructions for updating:\n",
      "Please use `rate` instead of `keep_prob`. Rate should be set to `rate = 1 - keep_prob`.\n"
     ]
    }
   ],
   "source": [
    "# Create Network Model \n",
    "img_x, img_y = 28, 28\n",
    "\n",
    "train_img = train_img.reshape(train_img.shape[0], img_x, img_y, 1)\n",
    "eval_img = eval_img.reshape(eval_img.shape[0], img_x, img_y, 1)\n",
    "test_img = test_img.reshape(test_img.shape[0], img_x, img_y, 1)\n",
    "input_shape=(img_x, img_y, 1)\n",
    "\n",
    "model = keras.Sequential([\n",
    "    keras.layers.Conv2D(32, kernel_size=(5, 5), strides=(1, 1), input_shape=input_shape),\n",
    "    keras.layers.Activation(tf.nn.relu),\n",
    "    keras.layers.MaxPooling2D(pool_size=(2, 2), strides=(2, 2)),\n",
    "    keras.layers.Conv2D(64, (5, 5)),\n",
    "    keras.layers.Activation(tf.nn.relu),\n",
    "    keras.layers.SpatialDropout2D(0.5),\n",
    "    keras.layers.MaxPooling2D(pool_size=(2, 2)),\n",
    "    keras.layers.Flatten(name='final'),\n",
    "    keras.layers.Dense(128),\n",
    "    keras.layers.BatchNormalization(),\n",
    "    keras.layers.Activation(tf.nn.relu),\n",
    "    keras.layers.Dense(10),\n",
    "    keras.layers.BatchNormalization(),\n",
    "    keras.layers.Activation(tf.nn.softmax)\n",
    "])\n",
    "\n",
    "model.compile(optimizer='adam', \n",
    "              loss='sparse_categorical_crossentropy',\n",
    "              metrics=['accuracy'])"
   ]
  },
  {
   "cell_type": "code",
   "execution_count": 5,
   "metadata": {
    "colab": {
     "base_uri": "https://localhost:8080/",
     "height": 1666
    },
    "colab_type": "code",
    "id": "Qvxh3rolFfxk",
    "outputId": "47ac4684-f2ed-4662-f04e-85b2844dba0d"
   },
   "outputs": [
    {
     "name": "stdout",
     "output_type": "stream",
     "text": [
      "Train on 48000 samples, validate on 12000 samples\n",
      "WARNING:tensorflow:From /usr/local/lib/python3.7/site-packages/tensorflow/python/ops/math_ops.py:3066: to_int32 (from tensorflow.python.ops.math_ops) is deprecated and will be removed in a future version.\n",
      "Instructions for updating:\n",
      "Use tf.cast instead.\n",
      "Epoch 1/200\n",
      "48000/48000 [==============================] - 28s 584us/sample - loss: 0.7651 - acc: 0.7945 - val_loss: 0.7920 - val_acc: 0.8692\n",
      "Epoch 2/200\n",
      "48000/48000 [==============================] - 29s 610us/sample - loss: 0.4855 - acc: 0.8649 - val_loss: 0.3795 - val_acc: 0.8867\n",
      "Epoch 3/200\n",
      "48000/48000 [==============================] - 28s 578us/sample - loss: 0.4041 - acc: 0.8797 - val_loss: 0.3473 - val_acc: 0.8932\n",
      "Epoch 4/200\n",
      "48000/48000 [==============================] - 28s 583us/sample - loss: 0.3613 - acc: 0.8865 - val_loss: 0.3255 - val_acc: 0.8903\n",
      "Epoch 5/200\n",
      "48000/48000 [==============================] - 27s 553us/sample - loss: 0.3319 - acc: 0.8918 - val_loss: 0.2921 - val_acc: 0.9031\n",
      "Epoch 6/200\n",
      "48000/48000 [==============================] - 28s 579us/sample - loss: 0.3080 - acc: 0.8982 - val_loss: 0.2804 - val_acc: 0.9040\n",
      "Epoch 7/200\n",
      "48000/48000 [==============================] - 29s 607us/sample - loss: 0.2946 - acc: 0.8995 - val_loss: 0.2542 - val_acc: 0.9112\n",
      "Epoch 8/200\n",
      "48000/48000 [==============================] - 29s 597us/sample - loss: 0.2787 - acc: 0.9053 - val_loss: 0.2550 - val_acc: 0.9131\n",
      "Epoch 9/200\n",
      "48000/48000 [==============================] - 29s 598us/sample - loss: 0.2658 - acc: 0.9093 - val_loss: 0.2486 - val_acc: 0.9124\n",
      "Epoch 10/200\n",
      "48000/48000 [==============================] - 28s 574us/sample - loss: 0.2518 - acc: 0.9121 - val_loss: 0.2498 - val_acc: 0.9087\n",
      "Epoch 11/200\n",
      "48000/48000 [==============================] - 27s 565us/sample - loss: 0.2464 - acc: 0.9133 - val_loss: 0.2422 - val_acc: 0.9142\n",
      "Epoch 12/200\n",
      "48000/48000 [==============================] - 30s 618us/sample - loss: 0.2388 - acc: 0.9158 - val_loss: 0.2323 - val_acc: 0.9173\n",
      "Epoch 13/200\n",
      "48000/48000 [==============================] - 28s 580us/sample - loss: 0.2278 - acc: 0.9184 - val_loss: 0.2380 - val_acc: 0.9170\n",
      "Epoch 14/200\n",
      "47872/48000 [============================>.] - ETA: 0s - loss: 0.2216 - acc: 0.9207\n",
      "Epoch 00014: ReduceLROnPlateau reducing learning rate to 0.00010000000474974513.\n",
      "48000/48000 [==============================] - 30s 616us/sample - loss: 0.2215 - acc: 0.9208 - val_loss: 0.2338 - val_acc: 0.9194\n",
      "Epoch 15/200\n",
      "48000/48000 [==============================] - 27s 559us/sample - loss: 0.1935 - acc: 0.9326 - val_loss: 0.2167 - val_acc: 0.9239\n",
      "Epoch 16/200\n",
      "48000/48000 [==============================] - 26s 541us/sample - loss: 0.1830 - acc: 0.9375 - val_loss: 0.2183 - val_acc: 0.9237\n",
      "Epoch 17/200\n",
      "48000/48000 [==============================] - 27s 558us/sample - loss: 0.1788 - acc: 0.9381 - val_loss: 0.2160 - val_acc: 0.9261\n",
      "Epoch 18/200\n",
      "48000/48000 [==============================] - 27s 572us/sample - loss: 0.1780 - acc: 0.9387 - val_loss: 0.2156 - val_acc: 0.9263\n",
      "Epoch 19/200\n",
      "48000/48000 [==============================] - 27s 553us/sample - loss: 0.1715 - acc: 0.9398 - val_loss: 0.2134 - val_acc: 0.9294\n",
      "Epoch 20/200\n",
      "48000/48000 [==============================] - 24s 497us/sample - loss: 0.1702 - acc: 0.9413 - val_loss: 0.2127 - val_acc: 0.9274\n",
      "Epoch 21/200\n",
      "48000/48000 [==============================] - 24s 500us/sample - loss: 0.1696 - acc: 0.9413 - val_loss: 0.2130 - val_acc: 0.9273\n",
      "Epoch 22/200\n",
      "48000/48000 [==============================] - 26s 542us/sample - loss: 0.1667 - acc: 0.9416 - val_loss: 0.2117 - val_acc: 0.9282\n",
      "Epoch 23/200\n",
      "48000/48000 [==============================] - 31s 645us/sample - loss: 0.1637 - acc: 0.9431 - val_loss: 0.2129 - val_acc: 0.9276\n",
      "Epoch 24/200\n",
      "47872/48000 [============================>.] - ETA: 0s - loss: 0.1649 - acc: 0.9430\n",
      "Epoch 00024: ReduceLROnPlateau reducing learning rate to 1.0000000474974514e-05.\n",
      "48000/48000 [==============================] - 26s 532us/sample - loss: 0.1650 - acc: 0.9430 - val_loss: 0.2121 - val_acc: 0.9275\n",
      "Epoch 25/200\n",
      "48000/48000 [==============================] - 28s 575us/sample - loss: 0.1589 - acc: 0.9453 - val_loss: 0.2116 - val_acc: 0.9275\n",
      "Epoch 26/200\n",
      "48000/48000 [==============================] - 28s 593us/sample - loss: 0.1552 - acc: 0.9469 - val_loss: 0.2109 - val_acc: 0.9286\n",
      "Epoch 27/200\n",
      "48000/48000 [==============================] - 25s 514us/sample - loss: 0.1603 - acc: 0.9450 - val_loss: 0.2115 - val_acc: 0.9280\n",
      "Epoch 28/200\n",
      "47872/48000 [============================>.] - ETA: 0s - loss: 0.1554 - acc: 0.9469\n",
      "Epoch 00028: ReduceLROnPlateau reducing learning rate to 1.0000000656873453e-06.\n",
      "48000/48000 [==============================] - 28s 583us/sample - loss: 0.1554 - acc: 0.9470 - val_loss: 0.2115 - val_acc: 0.9284\n",
      "Epoch 29/200\n",
      "48000/48000 [==============================] - 29s 599us/sample - loss: 0.1579 - acc: 0.9466 - val_loss: 0.2115 - val_acc: 0.9278\n",
      "Epoch 30/200\n",
      "47872/48000 [============================>.] - ETA: 0s - loss: 0.1558 - acc: 0.9456\n",
      "Epoch 00030: ReduceLROnPlateau reducing learning rate to 1.0000001111620805e-07.\n",
      "48000/48000 [==============================] - 28s 573us/sample - loss: 0.1559 - acc: 0.9455 - val_loss: 0.2114 - val_acc: 0.9282\n",
      "Epoch 31/200\n",
      "48000/48000 [==============================] - 27s 570us/sample - loss: 0.1580 - acc: 0.9450 - val_loss: 0.2113 - val_acc: 0.9279\n",
      "Epoch 32/200\n",
      "47872/48000 [============================>.] - ETA: 0s - loss: 0.1586 - acc: 0.9442\n",
      "Epoch 00032: ReduceLROnPlateau reducing learning rate to 1.000000082740371e-08.\n",
      "48000/48000 [==============================] - 29s 607us/sample - loss: 0.1584 - acc: 0.9442 - val_loss: 0.2118 - val_acc: 0.9284\n",
      "Epoch 33/200\n",
      "48000/48000 [==============================] - 29s 607us/sample - loss: 0.1568 - acc: 0.9450 - val_loss: 0.2114 - val_acc: 0.9277\n",
      "Epoch 34/200\n",
      "47872/48000 [============================>.] - ETA: 0s - loss: 0.1557 - acc: 0.9457\n",
      "Epoch 00034: ReduceLROnPlateau reducing learning rate to 1.000000082740371e-09.\n",
      "48000/48000 [==============================] - 29s 607us/sample - loss: 0.1557 - acc: 0.9457 - val_loss: 0.2113 - val_acc: 0.9282\n",
      "Epoch 35/200\n",
      "48000/48000 [==============================] - 29s 613us/sample - loss: 0.1554 - acc: 0.9478 - val_loss: 0.2115 - val_acc: 0.9284\n",
      "Epoch 36/200\n",
      "47872/48000 [============================>.] - ETA: 0s - loss: 0.1571 - acc: 0.9464\n",
      "Epoch 00036: ReduceLROnPlateau reducing learning rate to 1.000000082740371e-10.\n",
      "Restoring model weights from the end of the best epoch.\n",
      "48000/48000 [==============================] - 31s 648us/sample - loss: 0.1572 - acc: 0.9464 - val_loss: 0.2114 - val_acc: 0.9280\n",
      "Epoch 00036: early stopping\n"
     ]
    }
   ],
   "source": [
    "# Training\n",
    "batch_size = 128\n",
    "epochs = 200\n",
    "lr_dec = keras.callbacks.ReduceLROnPlateau(monitor='val_loss', factor=0.1, patience=2, verbose=1, mode='auto', min_delta=0.0001, cooldown=0, min_lr=0)\n",
    "early_stop = keras.callbacks.EarlyStopping(monitor='val_loss', min_delta=0.0001, patience=10, verbose=1, mode='auto', baseline=None, restore_best_weights=True)\n",
    "\n",
    "logs = model.fit(train_img, train_labels,\n",
    "          batch_size=batch_size,\n",
    "          epochs=epochs,\n",
    "          verbose=1,\n",
    "          validation_data=(eval_img, eval_labels),\n",
    "          callbacks=[lr_dec, early_stop]\n",
    "         )"
   ]
  },
  {
   "cell_type": "code",
   "execution_count": 6,
   "metadata": {
    "colab": {
     "base_uri": "https://localhost:8080/",
     "height": 51
    },
    "colab_type": "code",
    "id": "D4lfzUCKkudX",
    "outputId": "8d580d45-b69d-43ad-93ac-13f71fb84848"
   },
   "outputs": [
    {
     "name": "stdout",
     "output_type": "stream",
     "text": [
      "10000/10000 [==============================] - 1s 143us/sample - loss: 0.2248 - acc: 0.9200\n",
      "Test accuracy: 0.92  Test loss: 0.22484931278824807\n"
     ]
    }
   ],
   "source": [
    "# Print Accuracy\n",
    "test_loss, test_acc = model.evaluate(test_img, test_labels)\n",
    "print('Test accuracy:', test_acc, \" Test loss:\", test_loss)\n",
    "\n",
    "history = logs.history\n",
    "loss = history['loss']\n",
    "acc = history['acc']\n",
    "val_loss = history['val_loss']\n",
    "val_acc = history['val_acc']\n",
    "results = [(loss,'Training Loss'), (acc,'Training Accuracy'), (val_loss,'Validation Loss'), (val_acc,'Validation Accuracy')]"
   ]
  },
  {
   "cell_type": "code",
   "execution_count": 8,
   "metadata": {
    "colab": {
     "base_uri": "https://localhost:8080/",
     "height": 297
    },
    "colab_type": "code",
    "id": "xXBNkL826r7k",
    "outputId": "3ce736f7-3778-4f0a-aaee-6b668f0a3778"
   },
   "outputs": [
    {
     "data": {
      "image/png": "[encoded data removed]",
      "text/plain": [
       "<Figure size 432x288 with 4 Axes>"
      ]
     },
     "metadata": {
      "needs_background": "light"
     },
     "output_type": "display_data"
    }
   ],
   "source": [
    "# Plot results\n",
    "for i in range(len(results)):\n",
    "  plt.subplot(2,2,i+1)\n",
    "  plt.plot(range(0, len(results[i][0])), np.array(results[i][0]))\n",
    "  plt.xlabel('Epochs')\n",
    "  plt.ylabel(results[i][1])\n",
    "plt.tight_layout()\n",
    "plt.show()"
   ]
  },
  {
   "cell_type": "code",
   "execution_count": 10,
   "metadata": {
    "colab": {},
    "colab_type": "code",
    "id": "wy1Q4aCGNWji"
   },
   "outputs": [],
   "source": [
    "# Download Model\n",
    "from keras.models import load_model\n",
    "\n",
    "extractor_model = keras.Model(inputs=model.inputs, outputs=model.get_layer('final').output)\n",
    "\n",
    "extractor_model.save('pretrained_model.h5')"
   ]
  }
 ],
 "metadata": {
  "accelerator": "GPU",
  "colab": {
   "include_colab_link": true,
   "name": "ML-Project.ipynb",
   "provenance": [],
   "version": "0.3.2"
  },
  "kernelspec": {
   "display_name": "Python 3",
   "language": "python",
   "name": "python3"
  },
  "language_info": {
   "codemirror_mode": {
    "name": "ipython",
    "version": 3
   },
   "file_extension": ".py",
   "mimetype": "text/x-python",
   "name": "python",
   "nbconvert_exporter": "python",
   "pygments_lexer": "ipython3",
   "version": "3.7.3"
  }
 },
 "nbformat": 4,
 "nbformat_minor": 1
}
