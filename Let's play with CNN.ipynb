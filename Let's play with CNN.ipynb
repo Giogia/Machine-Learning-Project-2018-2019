{
  "nbformat": 4,
  "nbformat_minor": 0,
  "metadata": {
    "colab": {
      "name": "ML-Project.ipynb",
      "version": "0.3.2",
      "provenance": [],
      "include_colab_link": true
    },
    "kernelspec": {
      "name": "python3",
      "display_name": "Python 3"
    },
    "accelerator": "GPU"
  },
  "cells": [
    {
      "cell_type": "markdown",
      "metadata": {
        "id": "view-in-github",
        "colab_type": "text"
      },
      "source": [
        "<a href=\"https://colab.research.google.com/github/Giogia/Machine-Learning-Project-2018-2019/blob/master/Let's%20play%20with%20CNN.ipynb\" target=\"_parent\"><img src=\"https://colab.research.google.com/assets/colab-badge.svg\" alt=\"Open In Colab\"/></a>"
      ]
    },
    {
      "cell_type": "code",
      "metadata": {
        "id": "AyVVsSkXDKSV",
        "colab_type": "code",
        "colab": {}
      },
      "source": [
        "# TensorFlow and tf.keras\n",
        "import tensorflow as tf\n",
        "from tensorflow import keras\n",
        "\n",
        "# Helper libraries\n",
        "import numpy as np\n",
        "import matplotlib.pyplot as plt"
      ],
      "execution_count": 0,
      "outputs": []
    },
    {
      "cell_type": "markdown",
      "metadata": {
        "id": "Hkmk6g6UiGRZ",
        "colab_type": "text"
      },
      "source": [
        "Functions for imgs plotting"
      ]
    },
    {
      "cell_type": "code",
      "metadata": {
        "id": "tLTKAw1mGS3Y",
        "colab_type": "code",
        "outputId": "8ec6deb0-5dcf-4543-8248-dfc7fac7f006",
        "colab": {
          "base_uri": "https://localhost:8080/",
          "height": 54
        }
      },
      "source": [
        "def plot_image(i, predictions_array, true_label, img):\n",
        "  predictions_array, true_label, img = predictions_array[i], true_label[i], img[i]\n",
        "  plt.grid(False)\n",
        "  plt.xticks([])\n",
        "  plt.yticks([])\n",
        "  \n",
        "  plt.imshow(img, cmap=plt.cm.binary)\n",
        "\n",
        "  predicted_label = np.argmax(predictions_array)\n",
        "  if predicted_label == true_label:\n",
        "    color = 'blue'\n",
        "  else:\n",
        "    color = 'red'\n",
        "  \n",
        "  plt.xlabel(\"{} {:2.0f}% ({})\".format(class_names[predicted_label],\n",
        "                                100*np.max(predictions_array),\n",
        "                                class_names[true_label]),\n",
        "                                color=color)\n",
        "\n",
        "def plot_value_array(i, predictions_array, true_label):\n",
        "  predictions_array, true_label = predictions_array[i], true_label[i]\n",
        "  plt.grid(False)\n",
        "  plt.xticks([])\n",
        "  plt.yticks([])\n",
        "  thisplot = plt.bar(range(10), predictions_array, color=\"#777777\")\n",
        "  plt.ylim([0, 1]) \n",
        "  predicted_label = np.argmax(predictions_array)\n",
        " \n",
        "  thisplot[predicted_label].set_color('red')\n",
        "  thisplot[true_label].set_color('blue')\n",
        "  \n",
        "  \n",
        "\"\"\"\n",
        "#If you want to use it, move after fitting section\n",
        "predictions = model.predict(test_img)\n",
        "test_img_print = test_img[:,:,:,0]\n",
        "\n",
        "# Plot the first X test images, their predicted label, and the true label\n",
        "# Color correct predictions in blue, incorrect predictions in red\n",
        "num_rows = 5\n",
        "num_cols = 3\n",
        "num_images = num_rows*num_cols\n",
        "plt.figure(figsize=(2*2*num_cols, 2*num_rows))\n",
        "for i in range(num_images):\n",
        "  plt.subplot(num_rows, 2*num_cols, 2*i+1)\n",
        "  plot_image(i, predictions, test_labels, test_img_print)\n",
        "  plt.subplot(num_rows, 2*num_cols, 2*i+2)\n",
        "  plot_value_array(i, predictions, test_labels)\n",
        "plt.show()\n",
        "\"\"\""
      ],
      "execution_count": 19,
      "outputs": [
        {
          "output_type": "execute_result",
          "data": {
            "text/plain": [
              "'\\n#If you want to use it, move after fitting section\\npredictions = model.predict(test_img)\\ntest_img_print = test_img[:,:,:,0]\\n\\n# Plot the first X test images, their predicted label, and the true label\\n# Color correct predictions in blue, incorrect predictions in red\\nnum_rows = 5\\nnum_cols = 3\\nnum_images = num_rows*num_cols\\nplt.figure(figsize=(2*2*num_cols, 2*num_rows))\\nfor i in range(num_images):\\n  plt.subplot(num_rows, 2*num_cols, 2*i+1)\\n  plot_image(i, predictions, test_labels, test_img_print)\\n  plt.subplot(num_rows, 2*num_cols, 2*i+2)\\n  plot_value_array(i, predictions, test_labels)\\nplt.show()\\n'"
            ]
          },
          "metadata": {
            "tags": []
          },
          "execution_count": 19
        }
      ]
    },
    {
      "cell_type": "code",
      "metadata": {
        "id": "rU7obrZkqVtc",
        "colab_type": "code",
        "colab": {}
      },
      "source": [
        "def randomize(a, b):\n",
        "    # Generate the permutation index array.\n",
        "    s = np.arange(a.shape[0])\n",
        "    np.random.shuffle(s)\n",
        "    # Shuffle the arrays by giving the permutation in the square brackets.\n",
        "    shuffled_a = a[s]\n",
        "    shuffled_b = b[s]\n",
        "    return shuffled_a, shuffled_b"
      ],
      "execution_count": 0,
      "outputs": []
    },
    {
      "cell_type": "code",
      "metadata": {
        "id": "F5PisKxnDefD",
        "colab_type": "code",
        "outputId": "562a1ae7-9fdf-4c47-8f3d-103208a6953d",
        "colab": {
          "base_uri": "https://localhost:8080/",
          "height": 54
        }
      },
      "source": [
        "fashion_mnist = keras.datasets.fashion_mnist\n",
        "\n",
        "(train_img, train_labels), (test_img, test_labels) = fashion_mnist.load_data()\n",
        "\n",
        "train_img, train_labels = randomize(train_img, train_labels)\n",
        "\n",
        "\n",
        "class_names = ['T-shirt/top', 'Trouser', 'Pullover', 'Dress', 'Coat', \n",
        "               'Sandal', 'Shirt', 'Sneaker', 'Bag', 'Ankle boot']\n",
        "\n",
        "\"\"\"plt.figure()\n",
        "plt.imshow(train_images[0])\n",
        "plt.colorbar()\n",
        "plt.grid(False)\n",
        "plt.show()\"\"\"\n",
        "\n",
        "train_img = train_img / 255.0\n",
        "test_img = test_img / 255.0\n",
        "\n",
        "limit = int(len(train_img)*0.2)\n",
        "\n",
        "eval_img = train_img[:limit]\n",
        "eval_labels = train_labels[:limit]\n",
        "\n",
        "train_img = train_img[limit:]\n",
        "train_labels = train_labels[limit:]\n",
        "\n",
        "\n",
        "\n",
        "\"\"\"\n",
        "plt.figure(figsize=(10,10))\n",
        "for i in range(25):\n",
        "    plt.subplot(5,5,i+1)\n",
        "    plt.xticks([])\n",
        "    plt.yticks([])\n",
        "    plt.grid(False)\n",
        "    plt.imshow(train_images[i], cmap=plt.cm.binary)\n",
        "    plt.xlabel(class_names[train_labels[i]])\n",
        "plt.show()\n",
        "\"\"\""
      ],
      "execution_count": 21,
      "outputs": [
        {
          "output_type": "execute_result",
          "data": {
            "text/plain": [
              "'\\nplt.figure(figsize=(10,10))\\nfor i in range(25):\\n    plt.subplot(5,5,i+1)\\n    plt.xticks([])\\n    plt.yticks([])\\n    plt.grid(False)\\n    plt.imshow(train_images[i], cmap=plt.cm.binary)\\n    plt.xlabel(class_names[train_labels[i]])\\nplt.show()\\n'"
            ]
          },
          "metadata": {
            "tags": []
          },
          "execution_count": 21
        }
      ]
    },
    {
      "cell_type": "code",
      "metadata": {
        "id": "4dufJsucEKMd",
        "colab_type": "code",
        "colab": {}
      },
      "source": [
        "\n",
        "img_x, img_y = 28, 28\n",
        "\n",
        "train_img = train_img.reshape(train_img.shape[0], img_x, img_y, 1)\n",
        "eval_img = eval_img.reshape(eval_img.shape[0], img_x, img_y, 1)\n",
        "test_img = test_img.reshape(test_img.shape[0], img_x, img_y, 1)\n",
        "input_shape=(img_x, img_y, 1)\n",
        "\n",
        "model = keras.Sequential([\n",
        "    keras.layers.Conv2D(32, kernel_size=(5, 5), strides=(1, 1), input_shape=input_shape),\n",
        "    keras.layers.Activation(tf.nn.relu),\n",
        "    keras.layers.MaxPooling2D(pool_size=(2, 2), strides=(2, 2)),\n",
        "    keras.layers.Conv2D(64, (5, 5)),\n",
        "    keras.layers.Activation(tf.nn.relu),\n",
        "    keras.layers.SpatialDropout2D(0.5),\n",
        "    keras.layers.MaxPooling2D(pool_size=(2, 2)),\n",
        "    keras.layers.Flatten(name='final'),\n",
        "    keras.layers.Dense(128),\n",
        "    keras.layers.BatchNormalization(),\n",
        "    keras.layers.Activation(tf.nn.relu),\n",
        "    keras.layers.Dense(10),\n",
        "    keras.layers.BatchNormalization(),\n",
        "    keras.layers.Activation(tf.nn.softmax)\n",
        "])\n",
        "\n",
        "model.compile(optimizer='adam', \n",
        "              loss='sparse_categorical_crossentropy',\n",
        "              metrics=['accuracy'])"
      ],
      "execution_count": 0,
      "outputs": []
    },
    {
      "cell_type": "code",
      "metadata": {
        "id": "Qvxh3rolFfxk",
        "colab_type": "code",
        "outputId": "47ac4684-f2ed-4662-f04e-85b2844dba0d",
        "colab": {
          "base_uri": "https://localhost:8080/",
          "height": 1666
        }
      },
      "source": [
        "batch_size = 128\n",
        "epochs = 200\n",
        "lr_dec = keras.callbacks.ReduceLROnPlateau(monitor='val_loss', factor=0.1, patience=2, verbose=1, mode='auto', min_delta=0.0001, cooldown=0, min_lr=0)\n",
        "early_stop = keras.callbacks.EarlyStopping(monitor='val_loss', min_delta=0.0001, patience=10, verbose=1, mode='auto', baseline=None, restore_best_weights=True)\n",
        "\n",
        "logs = model.fit(train_img, train_labels,\n",
        "          batch_size=batch_size,\n",
        "          epochs=epochs,\n",
        "          verbose=1,\n",
        "          validation_data=(eval_img, eval_labels),\n",
        "          callbacks=[lr_dec, early_stop]\n",
        "         )"
      ],
      "execution_count": 23,
      "outputs": [
        {
          "output_type": "stream",
          "text": [
            "Train on 48000 samples, validate on 12000 samples\n",
            "Epoch 1/200\n",
            "48000/48000 [==============================] - 4s 75us/sample - loss: 0.7465 - acc: 0.8018 - val_loss: 0.8303 - val_acc: 0.8721\n",
            "Epoch 2/200\n",
            "48000/48000 [==============================] - 3s 70us/sample - loss: 0.4749 - acc: 0.8676 - val_loss: 0.3767 - val_acc: 0.8882\n",
            "Epoch 3/200\n",
            "48000/48000 [==============================] - 3s 73us/sample - loss: 0.3974 - acc: 0.8825 - val_loss: 0.3493 - val_acc: 0.8896\n",
            "Epoch 4/200\n",
            "48000/48000 [==============================] - 3s 73us/sample - loss: 0.3507 - acc: 0.8906 - val_loss: 0.3130 - val_acc: 0.8992\n",
            "Epoch 5/200\n",
            "48000/48000 [==============================] - 3s 66us/sample - loss: 0.3241 - acc: 0.8949 - val_loss: 0.3113 - val_acc: 0.8955\n",
            "Epoch 6/200\n",
            "48000/48000 [==============================] - 3s 63us/sample - loss: 0.2996 - acc: 0.9008 - val_loss: 0.2769 - val_acc: 0.9035\n",
            "Epoch 7/200\n",
            "48000/48000 [==============================] - 3s 63us/sample - loss: 0.2868 - acc: 0.9032 - val_loss: 0.2719 - val_acc: 0.9041\n",
            "Epoch 8/200\n",
            "48000/48000 [==============================] - 3s 62us/sample - loss: 0.2710 - acc: 0.9074 - val_loss: 0.2615 - val_acc: 0.9080\n",
            "Epoch 9/200\n",
            "48000/48000 [==============================] - 3s 63us/sample - loss: 0.2592 - acc: 0.9123 - val_loss: 0.2693 - val_acc: 0.9053\n",
            "Epoch 10/200\n",
            "48000/48000 [==============================] - 3s 63us/sample - loss: 0.2472 - acc: 0.9152 - val_loss: 0.2547 - val_acc: 0.9110\n",
            "Epoch 11/200\n",
            "48000/48000 [==============================] - 3s 63us/sample - loss: 0.2411 - acc: 0.9167 - val_loss: 0.2393 - val_acc: 0.9154\n",
            "Epoch 12/200\n",
            "48000/48000 [==============================] - 3s 62us/sample - loss: 0.2331 - acc: 0.9171 - val_loss: 0.2337 - val_acc: 0.9160\n",
            "Epoch 13/200\n",
            "48000/48000 [==============================] - 3s 68us/sample - loss: 0.2217 - acc: 0.9227 - val_loss: 0.2416 - val_acc: 0.9105\n",
            "Epoch 14/200\n",
            "48000/48000 [==============================] - 3s 72us/sample - loss: 0.2191 - acc: 0.9215 - val_loss: 0.2315 - val_acc: 0.9143\n",
            "Epoch 15/200\n",
            "48000/48000 [==============================] - 4s 74us/sample - loss: 0.2112 - acc: 0.9252 - val_loss: 0.2278 - val_acc: 0.9208\n",
            "Epoch 16/200\n",
            "48000/48000 [==============================] - 3s 67us/sample - loss: 0.2029 - acc: 0.9282 - val_loss: 0.2344 - val_acc: 0.9159\n",
            "Epoch 17/200\n",
            "48000/48000 [==============================] - 3s 62us/sample - loss: 0.1961 - acc: 0.9292 - val_loss: 0.2222 - val_acc: 0.9190\n",
            "Epoch 18/200\n",
            "48000/48000 [==============================] - 3s 62us/sample - loss: 0.1936 - acc: 0.9302 - val_loss: 0.2384 - val_acc: 0.9147\n",
            "Epoch 19/200\n",
            "47616/48000 [============================>.] - ETA: 0s - loss: 0.1919 - acc: 0.9313\n",
            "Epoch 00019: ReduceLROnPlateau reducing learning rate to 0.00010000000474974513.\n",
            "48000/48000 [==============================] - 3s 69us/sample - loss: 0.1919 - acc: 0.9313 - val_loss: 0.2330 - val_acc: 0.9162\n",
            "Epoch 20/200\n",
            "48000/48000 [==============================] - 3s 71us/sample - loss: 0.1606 - acc: 0.9428 - val_loss: 0.2101 - val_acc: 0.9253\n",
            "Epoch 21/200\n",
            "48000/48000 [==============================] - 3s 63us/sample - loss: 0.1525 - acc: 0.9461 - val_loss: 0.2084 - val_acc: 0.9261\n",
            "Epoch 22/200\n",
            "48000/48000 [==============================] - 3s 63us/sample - loss: 0.1492 - acc: 0.9488 - val_loss: 0.2102 - val_acc: 0.9259\n",
            "Epoch 23/200\n",
            "47104/48000 [============================>.] - ETA: 0s - loss: 0.1477 - acc: 0.9488\n",
            "Epoch 00023: ReduceLROnPlateau reducing learning rate to 1.0000000474974514e-05.\n",
            "48000/48000 [==============================] - 3s 62us/sample - loss: 0.1472 - acc: 0.9490 - val_loss: 0.2113 - val_acc: 0.9258\n",
            "Epoch 24/200\n",
            "48000/48000 [==============================] - 3s 62us/sample - loss: 0.1440 - acc: 0.9500 - val_loss: 0.2077 - val_acc: 0.9268\n",
            "Epoch 25/200\n",
            "48000/48000 [==============================] - 3s 62us/sample - loss: 0.1417 - acc: 0.9511 - val_loss: 0.2074 - val_acc: 0.9270\n",
            "Epoch 26/200\n",
            "48000/48000 [==============================] - 3s 62us/sample - loss: 0.1407 - acc: 0.9514 - val_loss: 0.2074 - val_acc: 0.9271\n",
            "Epoch 27/200\n",
            "47872/48000 [============================>.] - ETA: 0s - loss: 0.1401 - acc: 0.9521\n",
            "Epoch 00027: ReduceLROnPlateau reducing learning rate to 1.0000000656873453e-06.\n",
            "48000/48000 [==============================] - 3s 64us/sample - loss: 0.1402 - acc: 0.9521 - val_loss: 0.2074 - val_acc: 0.9275\n",
            "Epoch 28/200\n",
            "48000/48000 [==============================] - 3s 70us/sample - loss: 0.1386 - acc: 0.9517 - val_loss: 0.2071 - val_acc: 0.9269\n",
            "Epoch 29/200\n",
            "48000/48000 [==============================] - 3s 72us/sample - loss: 0.1414 - acc: 0.9516 - val_loss: 0.2070 - val_acc: 0.9271\n",
            "Epoch 30/200\n",
            "48000/48000 [==============================] - 3s 69us/sample - loss: 0.1398 - acc: 0.9508 - val_loss: 0.2070 - val_acc: 0.9272\n",
            "Epoch 31/200\n",
            "47360/48000 [============================>.] - ETA: 0s - loss: 0.1411 - acc: 0.9507\n",
            "Epoch 00031: ReduceLROnPlateau reducing learning rate to 1.0000001111620805e-07.\n",
            "48000/48000 [==============================] - 3s 62us/sample - loss: 0.1411 - acc: 0.9506 - val_loss: 0.2069 - val_acc: 0.9269\n",
            "Epoch 32/200\n",
            "48000/48000 [==============================] - 3s 62us/sample - loss: 0.1413 - acc: 0.9513 - val_loss: 0.2071 - val_acc: 0.9270\n",
            "Epoch 33/200\n",
            "47488/48000 [============================>.] - ETA: 0s - loss: 0.1392 - acc: 0.9512\n",
            "Epoch 00033: ReduceLROnPlateau reducing learning rate to 1.000000082740371e-08.\n",
            "48000/48000 [==============================] - 3s 62us/sample - loss: 0.1394 - acc: 0.9513 - val_loss: 0.2070 - val_acc: 0.9268\n",
            "Epoch 34/200\n",
            "48000/48000 [==============================] - 3s 62us/sample - loss: 0.1412 - acc: 0.9506 - val_loss: 0.2072 - val_acc: 0.9267\n",
            "Epoch 35/200\n",
            "47744/48000 [============================>.] - ETA: 0s - loss: 0.1416 - acc: 0.9507\n",
            "Epoch 00035: ReduceLROnPlateau reducing learning rate to 1.000000082740371e-09.\n",
            "48000/48000 [==============================] - 3s 62us/sample - loss: 0.1416 - acc: 0.9506 - val_loss: 0.2070 - val_acc: 0.9268\n",
            "Epoch 36/200\n",
            "48000/48000 [==============================] - 3s 63us/sample - loss: 0.1403 - acc: 0.9521 - val_loss: 0.2070 - val_acc: 0.9270\n",
            "Epoch 37/200\n",
            "47872/48000 [============================>.] - ETA: 0s - loss: 0.1399 - acc: 0.9522\n",
            "Epoch 00037: ReduceLROnPlateau reducing learning rate to 1.000000082740371e-10.\n",
            "48000/48000 [==============================] - 3s 62us/sample - loss: 0.1399 - acc: 0.9522 - val_loss: 0.2070 - val_acc: 0.9269\n",
            "Epoch 38/200\n",
            "48000/48000 [==============================] - 3s 62us/sample - loss: 0.1384 - acc: 0.9522 - val_loss: 0.2069 - val_acc: 0.9268\n",
            "Epoch 39/200\n",
            "47232/48000 [============================>.] - ETA: 0s - loss: 0.1398 - acc: 0.9522\n",
            "Epoch 00039: ReduceLROnPlateau reducing learning rate to 1.000000082740371e-11.\n",
            "Restoring model weights from the end of the best epoch.\n",
            "48000/48000 [==============================] - 3s 65us/sample - loss: 0.1397 - acc: 0.9522 - val_loss: 0.2070 - val_acc: 0.9272\n",
            "Epoch 00039: early stopping\n"
          ],
          "name": "stdout"
        }
      ]
    },
    {
      "cell_type": "code",
      "metadata": {
        "id": "D4lfzUCKkudX",
        "colab_type": "code",
        "outputId": "8d580d45-b69d-43ad-93ac-13f71fb84848",
        "colab": {
          "base_uri": "https://localhost:8080/",
          "height": 51
        }
      },
      "source": [
        "test_loss, test_acc = model.evaluate(test_img, test_labels)\n",
        "print('Test accuracy:', test_acc, \" Test loss:\", test_loss)"
      ],
      "execution_count": 24,
      "outputs": [
        {
          "output_type": "stream",
          "text": [
            "10000/10000 [==============================] - 1s 68us/sample - loss: 0.2213 - acc: 0.9227\n",
            "Test accuracy: 0.9227  Test loss: 0.22131379969120027\n"
          ],
          "name": "stdout"
        }
      ]
    },
    {
      "cell_type": "code",
      "metadata": {
        "id": "Zwo1DrelnqUG",
        "colab_type": "code",
        "colab": {}
      },
      "source": [
        "history = logs.history\n",
        "loss = history['loss']\n",
        "acc = history['acc']\n",
        "val_loss = history['val_loss']\n",
        "val_acc = history['val_acc']\n",
        "results = [(loss,'Training Loss'), (acc,'Training Accuracy'), (val_loss,'Validation Loss'), (val_acc,'Validation Accuracy')]"
      ],
      "execution_count": 0,
      "outputs": []
    },
    {
      "cell_type": "code",
      "metadata": {
        "id": "xXBNkL826r7k",
        "colab_type": "code",
        "outputId": "3ce736f7-3778-4f0a-aaee-6b668f0a3778",
        "colab": {
          "base_uri": "https://localhost:8080/",
          "height": 297
        }
      },
      "source": [
        "for i in range(len(results)):\n",
        "  plt.subplot(2,2,i+1)\n",
        "  plt.plot(range(0, len(results[i][0])), np.array(results[i][0]))\n",
        "  plt.xlabel('Epochs')\n",
        "  plt.ylabel(results[i][1])\n",
        "plt.tight_layout()\n",
        "plt.show()"
      ],
      "execution_count": 26,
      "outputs": [
        {
          "output_type": "display_data",
          "data": {
            "image/png": "[encoded data removed]",
            "text/plain": [
              "<Figure size 432x288 with 4 Axes>"
            ]
          },
          "metadata": {
            "tags": []
          }
        }
      ]
    },
    {
      "cell_type": "code",
      "metadata": {
        "id": "wy1Q4aCGNWji",
        "colab_type": "code",
        "colab": {}
      },
      "source": [
        "from keras.models import load_model\n",
        "\n",
        "extractor_model = keras.Model(inputs=model.inputs, outputs=model.get_layer('final').output)\n",
        "\n",
        "extractor_model.save('extractor_pretrained_model.h5')"
      ],
      "execution_count": 0,
      "outputs": []
    }
  ]
}