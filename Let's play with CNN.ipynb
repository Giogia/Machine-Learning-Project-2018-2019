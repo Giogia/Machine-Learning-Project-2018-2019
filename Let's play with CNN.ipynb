{
  "nbformat": 4,
  "nbformat_minor": 0,
  "metadata": {
    "colab": {
      "name": "ML-Project.ipynb",
      "version": "0.3.2",
      "provenance": [],
      "include_colab_link": true
    },
    "kernelspec": {
      "name": "python3",
      "display_name": "Python 3"
    },
    "accelerator": "GPU"
  },
  "cells": [
    {
      "cell_type": "markdown",
      "metadata": {
        "id": "view-in-github",
        "colab_type": "text"
      },
      "source": [
        "<a href=\"https://colab.research.google.com/github/Giogia/Machine-Learning-Project-2018-2019/blob/master/Let's%20play%20with%20CNN.ipynb\" target=\"_parent\"><img src=\"https://colab.research.google.com/assets/colab-badge.svg\" alt=\"Open In Colab\"/></a>"
      ]
    },
    {
      "metadata": {
        "id": "AyVVsSkXDKSV",
        "colab_type": "code",
        "colab": {}
      },
      "cell_type": "code",
      "source": [
        "# TensorFlow and tf.keras\n",
        "import tensorflow as tf\n",
        "from tensorflow import keras\n",
        "\n",
        "# Helper libraries\n",
        "import numpy as np\n",
        "import matplotlib.pyplot as plt"
      ],
      "execution_count": 0,
      "outputs": []
    },
    {
      "metadata": {
        "id": "Hkmk6g6UiGRZ",
        "colab_type": "text"
      },
      "cell_type": "markdown",
      "source": [
        "Functions for imgs plotting"
      ]
    },
    {
      "metadata": {
        "id": "tLTKAw1mGS3Y",
        "colab_type": "code",
        "colab": {
          "base_uri": "https://localhost:8080/",
          "height": 54
        },
        "outputId": "c4265a33-70d5-4c98-db19-02beeb18ff56"
      },
      "cell_type": "code",
      "source": [
        "def plot_image(i, predictions_array, true_label, img):\n",
        "  predictions_array, true_label, img = predictions_array[i], true_label[i], img[i]\n",
        "  plt.grid(False)\n",
        "  plt.xticks([])\n",
        "  plt.yticks([])\n",
        "  \n",
        "  plt.imshow(img, cmap=plt.cm.binary)\n",
        "\n",
        "  predicted_label = np.argmax(predictions_array)\n",
        "  if predicted_label == true_label:\n",
        "    color = 'blue'\n",
        "  else:\n",
        "    color = 'red'\n",
        "  \n",
        "  plt.xlabel(\"{} {:2.0f}% ({})\".format(class_names[predicted_label],\n",
        "                                100*np.max(predictions_array),\n",
        "                                class_names[true_label]),\n",
        "                                color=color)\n",
        "\n",
        "def plot_value_array(i, predictions_array, true_label):\n",
        "  predictions_array, true_label = predictions_array[i], true_label[i]\n",
        "  plt.grid(False)\n",
        "  plt.xticks([])\n",
        "  plt.yticks([])\n",
        "  thisplot = plt.bar(range(10), predictions_array, color=\"#777777\")\n",
        "  plt.ylim([0, 1]) \n",
        "  predicted_label = np.argmax(predictions_array)\n",
        " \n",
        "  thisplot[predicted_label].set_color('red')\n",
        "  thisplot[true_label].set_color('blue')\n",
        "  \n",
        "  \n",
        "\"\"\"\n",
        "#If you want to use it, move after fitting section\n",
        "predictions = model.predict(test_img)\n",
        "test_img_print = test_img[:,:,:,0]\n",
        "\n",
        "# Plot the first X test images, their predicted label, and the true label\n",
        "# Color correct predictions in blue, incorrect predictions in red\n",
        "num_rows = 5\n",
        "num_cols = 3\n",
        "num_images = num_rows*num_cols\n",
        "plt.figure(figsize=(2*2*num_cols, 2*num_rows))\n",
        "for i in range(num_images):\n",
        "  plt.subplot(num_rows, 2*num_cols, 2*i+1)\n",
        "  plot_image(i, predictions, test_labels, test_img_print)\n",
        "  plt.subplot(num_rows, 2*num_cols, 2*i+2)\n",
        "  plot_value_array(i, predictions, test_labels)\n",
        "plt.show()\n",
        "\"\"\""
      ],
      "execution_count": 56,
      "outputs": [
        {
          "output_type": "execute_result",
          "data": {
            "text/plain": [
              "'\\n#If you want to use it, move after fitting section\\npredictions = model.predict(test_img)\\ntest_img_print = test_img[:,:,:,0]\\n\\n# Plot the first X test images, their predicted label, and the true label\\n# Color correct predictions in blue, incorrect predictions in red\\nnum_rows = 5\\nnum_cols = 3\\nnum_images = num_rows*num_cols\\nplt.figure(figsize=(2*2*num_cols, 2*num_rows))\\nfor i in range(num_images):\\n  plt.subplot(num_rows, 2*num_cols, 2*i+1)\\n  plot_image(i, predictions, test_labels, test_img_print)\\n  plt.subplot(num_rows, 2*num_cols, 2*i+2)\\n  plot_value_array(i, predictions, test_labels)\\nplt.show()\\n'"
            ]
          },
          "metadata": {
            "tags": []
          },
          "execution_count": 56
        }
      ]
    },
    {
      "metadata": {
        "id": "rU7obrZkqVtc",
        "colab_type": "code",
        "colab": {}
      },
      "cell_type": "code",
      "source": [
        "def randomize(a, b):\n",
        "    # Generate the permutation index array.\n",
        "    s = np.arange(a.shape[0])\n",
        "    np.random.shuffle(s)\n",
        "    # Shuffle the arrays by giving the permutation in the square brackets.\n",
        "    shuffled_a = a[s]\n",
        "    shuffled_b = b[s]\n",
        "    return shuffled_a, shuffled_b"
      ],
      "execution_count": 0,
      "outputs": []
    },
    {
      "metadata": {
        "id": "F5PisKxnDefD",
        "colab_type": "code",
        "colab": {
          "base_uri": "https://localhost:8080/",
          "height": 54
        },
        "outputId": "0ffc3820-b1df-45d1-e8c0-0301d4b1cfd2"
      },
      "cell_type": "code",
      "source": [
        "fashion_mnist = keras.datasets.fashion_mnist\n",
        "\n",
        "(train_img, train_labels), (test_img, test_labels) = fashion_mnist.load_data()\n",
        "\n",
        "train_img, train_labels = randomize(train_img, train_labels)\n",
        "\n",
        "\n",
        "class_names = ['T-shirt/top', 'Trouser', 'Pullover', 'Dress', 'Coat', \n",
        "               'Sandal', 'Shirt', 'Sneaker', 'Bag', 'Ankle boot']\n",
        "\n",
        "\"\"\"plt.figure()\n",
        "plt.imshow(train_images[0])\n",
        "plt.colorbar()\n",
        "plt.grid(False)\n",
        "plt.show()\"\"\"\n",
        "\n",
        "train_img = train_img / 255.0\n",
        "test_img = test_img / 255.0\n",
        "\n",
        "limit = int(len(train_img)*0.2)\n",
        "\n",
        "eval_img = train_img[:limit]\n",
        "eval_labels = train_labels[:limit]\n",
        "\n",
        "train_img = train_img[limit:]\n",
        "train_labels = train_labels[limit:]\n",
        "\n",
        "\n",
        "\n",
        "\"\"\"\n",
        "plt.figure(figsize=(10,10))\n",
        "for i in range(25):\n",
        "    plt.subplot(5,5,i+1)\n",
        "    plt.xticks([])\n",
        "    plt.yticks([])\n",
        "    plt.grid(False)\n",
        "    plt.imshow(train_images[i], cmap=plt.cm.binary)\n",
        "    plt.xlabel(class_names[train_labels[i]])\n",
        "plt.show()\n",
        "\"\"\""
      ],
      "execution_count": 58,
      "outputs": [
        {
          "output_type": "execute_result",
          "data": {
            "text/plain": [
              "'\\nplt.figure(figsize=(10,10))\\nfor i in range(25):\\n    plt.subplot(5,5,i+1)\\n    plt.xticks([])\\n    plt.yticks([])\\n    plt.grid(False)\\n    plt.imshow(train_images[i], cmap=plt.cm.binary)\\n    plt.xlabel(class_names[train_labels[i]])\\nplt.show()\\n'"
            ]
          },
          "metadata": {
            "tags": []
          },
          "execution_count": 58
        }
      ]
    },
    {
      "metadata": {
        "id": "4dufJsucEKMd",
        "colab_type": "code",
        "colab": {}
      },
      "cell_type": "code",
      "source": [
        "\n",
        "img_x, img_y = 28, 28\n",
        "\n",
        "train_img = train_img.reshape(train_img.shape[0], img_x, img_y, 1)\n",
        "eval_img = eval_img.reshape(eval_img.shape[0], img_x, img_y, 1)\n",
        "test_img = test_img.reshape(test_img.shape[0], img_x, img_y, 1)\n",
        "input_shape=(img_x, img_y, 1)\n",
        "\n",
        "model = keras.Sequential([\n",
        "    keras.layers.Conv2D(32, kernel_size=(5, 5), strides=(1, 1), activation=tf.nn.relu, input_shape=input_shape),\n",
        "    keras.layers.MaxPooling2D(pool_size=(2, 2), strides=(2, 2)),\n",
        "    keras.layers.Conv2D(64, (5, 5), activation=tf.nn.relu),\n",
        "    keras.layers.MaxPooling2D(pool_size=(2, 2)),\n",
        "    keras.layers.Flatten(),\n",
        "    keras.layers.Dense(128, activation=tf.nn.relu),\n",
        "    keras.layers.Dense(10, activation=tf.nn.softmax)\n",
        "])\n",
        "\n",
        "model.compile(optimizer='adam', \n",
        "              loss='sparse_categorical_crossentropy',\n",
        "              metrics=['accuracy'])"
      ],
      "execution_count": 0,
      "outputs": []
    },
    {
      "metadata": {
        "id": "Qvxh3rolFfxk",
        "colab_type": "code",
        "colab": {
          "base_uri": "https://localhost:8080/",
          "height": 1020
        },
        "outputId": "2a558287-7152-4dcb-ac1d-987b4c5357fd"
      },
      "cell_type": "code",
      "source": [
        "batch_size = 128\n",
        "epochs = 200\n",
        "lr_dec = keras.callbacks.ReduceLROnPlateau(monitor='val_loss', factor=0.1, patience=2, verbose=1, mode='auto', min_delta=0.0001, cooldown=0, min_lr=0)\n",
        "early_stop = keras.callbacks.EarlyStopping(monitor='val_loss', min_delta=0.0001, patience=10, verbose=1, mode='auto', baseline=None, restore_best_weights=True)\n",
        "\n",
        "logs = model.fit(train_img, train_labels,\n",
        "          batch_size=batch_size,\n",
        "          epochs=epochs,\n",
        "          verbose=1,\n",
        "          validation_data=(eval_img, eval_labels),\n",
        "          callbacks=[lr_dec, early_stop]\n",
        "         )"
      ],
      "execution_count": 60,
      "outputs": [
        {
          "output_type": "stream",
          "text": [
            "Train on 48000 samples, validate on 12000 samples\n",
            "Epoch 1/200\n",
            "48000/48000 [==============================] - 5s 96us/sample - loss: 0.5938 - acc: 0.7866 - val_loss: 0.4022 - val_acc: 0.8571\n",
            "Epoch 2/200\n",
            "48000/48000 [==============================] - 4s 82us/sample - loss: 0.3874 - acc: 0.8613 - val_loss: 0.3389 - val_acc: 0.8783\n",
            "Epoch 3/200\n",
            "48000/48000 [==============================] - 4s 81us/sample - loss: 0.3296 - acc: 0.8816 - val_loss: 0.3153 - val_acc: 0.8868\n",
            "Epoch 4/200\n",
            "48000/48000 [==============================] - 4s 82us/sample - loss: 0.2941 - acc: 0.8938 - val_loss: 0.3100 - val_acc: 0.8864\n",
            "Epoch 5/200\n",
            "48000/48000 [==============================] - 4s 82us/sample - loss: 0.2711 - acc: 0.9023 - val_loss: 0.2767 - val_acc: 0.9003\n",
            "Epoch 6/200\n",
            "48000/48000 [==============================] - 4s 81us/sample - loss: 0.2474 - acc: 0.9104 - val_loss: 0.2692 - val_acc: 0.9039\n",
            "Epoch 7/200\n",
            "48000/48000 [==============================] - 4s 81us/sample - loss: 0.2321 - acc: 0.9151 - val_loss: 0.2622 - val_acc: 0.9045\n",
            "Epoch 8/200\n",
            "48000/48000 [==============================] - 4s 81us/sample - loss: 0.2146 - acc: 0.9206 - val_loss: 0.2568 - val_acc: 0.9087\n",
            "Epoch 9/200\n",
            "48000/48000 [==============================] - 4s 81us/sample - loss: 0.2000 - acc: 0.9273 - val_loss: 0.2458 - val_acc: 0.9138\n",
            "Epoch 10/200\n",
            "48000/48000 [==============================] - 4s 80us/sample - loss: 0.1836 - acc: 0.9335 - val_loss: 0.2715 - val_acc: 0.9061\n",
            "Epoch 11/200\n",
            "47488/48000 [============================>.] - ETA: 0s - loss: 0.1699 - acc: 0.9379\n",
            "Epoch 00011: ReduceLROnPlateau reducing learning rate to 0.00010000000474974513.\n",
            "48000/48000 [==============================] - 4s 85us/sample - loss: 0.1703 - acc: 0.9379 - val_loss: 0.2604 - val_acc: 0.9087\n",
            "Epoch 12/200\n",
            "48000/48000 [==============================] - 4s 81us/sample - loss: 0.1254 - acc: 0.9556 - val_loss: 0.2293 - val_acc: 0.9216\n",
            "Epoch 13/200\n",
            "48000/48000 [==============================] - 4s 81us/sample - loss: 0.1173 - acc: 0.9586 - val_loss: 0.2313 - val_acc: 0.9207\n",
            "Epoch 14/200\n",
            "47360/48000 [============================>.] - ETA: 0s - loss: 0.1138 - acc: 0.9604\n",
            "Epoch 00014: ReduceLROnPlateau reducing learning rate to 1.0000000474974514e-05.\n",
            "48000/48000 [==============================] - 4s 80us/sample - loss: 0.1135 - acc: 0.9605 - val_loss: 0.2325 - val_acc: 0.9225\n",
            "Epoch 15/200\n",
            "48000/48000 [==============================] - 4s 81us/sample - loss: 0.1074 - acc: 0.9633 - val_loss: 0.2306 - val_acc: 0.9224\n",
            "Epoch 16/200\n",
            "47360/48000 [============================>.] - ETA: 0s - loss: 0.1065 - acc: 0.9637\n",
            "Epoch 00016: ReduceLROnPlateau reducing learning rate to 1.0000000656873453e-06.\n",
            "48000/48000 [==============================] - 4s 81us/sample - loss: 0.1065 - acc: 0.9638 - val_loss: 0.2308 - val_acc: 0.9221\n",
            "Epoch 17/200\n",
            "48000/48000 [==============================] - 4s 81us/sample - loss: 0.1056 - acc: 0.9642 - val_loss: 0.2307 - val_acc: 0.9228\n",
            "Epoch 18/200\n",
            "47232/48000 [============================>.] - ETA: 0s - loss: 0.1057 - acc: 0.9641\n",
            "Epoch 00018: ReduceLROnPlateau reducing learning rate to 1.0000001111620805e-07.\n",
            "48000/48000 [==============================] - 4s 80us/sample - loss: 0.1055 - acc: 0.9641 - val_loss: 0.2307 - val_acc: 0.9227\n",
            "Epoch 19/200\n",
            "48000/48000 [==============================] - 4s 81us/sample - loss: 0.1054 - acc: 0.9642 - val_loss: 0.2307 - val_acc: 0.9227\n",
            "Epoch 20/200\n",
            "47232/48000 [============================>.] - ETA: 0s - loss: 0.1052 - acc: 0.9643\n",
            "Epoch 00020: ReduceLROnPlateau reducing learning rate to 1.000000082740371e-08.\n",
            "48000/48000 [==============================] - 4s 80us/sample - loss: 0.1054 - acc: 0.9643 - val_loss: 0.2307 - val_acc: 0.9227\n",
            "Epoch 21/200\n",
            "48000/48000 [==============================] - 4s 81us/sample - loss: 0.1054 - acc: 0.9642 - val_loss: 0.2307 - val_acc: 0.9227\n",
            "Epoch 22/200\n",
            "47232/48000 [============================>.] - ETA: 0s - loss: 0.1057 - acc: 0.9640\n",
            "Epoch 00022: ReduceLROnPlateau reducing learning rate to 1.000000082740371e-09.\n",
            "Restoring model weights from the end of the best epoch.\n",
            "48000/48000 [==============================] - 4s 86us/sample - loss: 0.1054 - acc: 0.9642 - val_loss: 0.2307 - val_acc: 0.9227\n",
            "Epoch 00022: early stopping\n"
          ],
          "name": "stdout"
        }
      ]
    },
    {
      "metadata": {
        "id": "D4lfzUCKkudX",
        "colab_type": "code",
        "colab": {
          "base_uri": "https://localhost:8080/",
          "height": 51
        },
        "outputId": "a23963d3-effb-47dc-c647-dca366062198"
      },
      "cell_type": "code",
      "source": [
        "test_loss, test_acc = model.evaluate(test_img, test_labels)\n",
        "print('Test accuracy:', test_acc, \" Test loss:\", test_loss)"
      ],
      "execution_count": 61,
      "outputs": [
        {
          "output_type": "stream",
          "text": [
            "10000/10000 [==============================] - 1s 91us/sample - loss: 0.2506 - acc: 0.9133\n",
            "Test accuracy: 0.9133  Test loss: 0.25058788806796073\n"
          ],
          "name": "stdout"
        }
      ]
    },
    {
      "metadata": {
        "id": "Zwo1DrelnqUG",
        "colab_type": "code",
        "colab": {}
      },
      "cell_type": "code",
      "source": [
        "history = logs.history\n",
        "loss = history['loss']\n",
        "acc = history['acc']\n",
        "val_loss = history['val_loss']\n",
        "val_acc = history['val_acc']\n",
        "results = [(loss,'Training Loss'), (acc,'Training Accuracy'), (val_loss,'Validation Loss'), (val_acc,'Validation Accuracy')]"
      ],
      "execution_count": 0,
      "outputs": []
    },
    {
      "metadata": {
        "id": "xXBNkL826r7k",
        "colab_type": "code",
        "colab": {
          "base_uri": "https://localhost:8080/",
          "height": 401
        },
        "outputId": "54aa4fb1-904c-4842-cb03-47b3ec9dd192"
      },
      "cell_type": "code",
      "source": [
        "for i in range(len(results)):\n",
        "  plt.subplot(2,2,i+1)\n",
        "  plt.plot(range(0, len(results[i][0])), np.array(results[i][0]))\n",
        "  plt.xlabel('Epochs')\n",
        "  plt.ylabel(results[i][1])\n",
        "plt.tight_layout()\n",
        "plt.show()"
      ],
      "execution_count": 63,
      "outputs": [
        {
          "output_type": "display_data",
          "data": {
            "image/png": "[encoded data removed]",
            "text/plain": [
              "<Figure size 576x396 with 4 Axes>"
            ]
          },
          "metadata": {
            "tags": []
          }
        }
      ]
    }
  ]
}