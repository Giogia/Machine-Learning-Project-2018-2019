{
  "nbformat": 4,
  "nbformat_minor": 0,
  "metadata": {
    "colab": {
      "name": "ML-Project.ipynb",
      "version": "0.3.2",
      "provenance": [],
      "include_colab_link": true
    },
    "kernelspec": {
      "name": "python3",
      "display_name": "Python 3"
    },
    "accelerator": "GPU"
  },
  "cells": [
    {
      "cell_type": "markdown",
      "metadata": {
        "id": "view-in-github",
        "colab_type": "text"
      },
      "source": [
        "<a href=\"https://colab.research.google.com/github/Giogia/Machine-Learning-Project-2018-2019/blob/master/Let's%20play%20with%20CNN.ipynb\" target=\"_parent\"><img src=\"https://colab.research.google.com/assets/colab-badge.svg\" alt=\"Open In Colab\"/></a>"
      ]
    },
    {
      "metadata": {
        "id": "AyVVsSkXDKSV",
        "colab_type": "code",
        "colab": {}
      },
      "cell_type": "code",
      "source": [
        "# TensorFlow and tf.keras\n",
        "import tensorflow as tf\n",
        "from tensorflow import keras\n",
        "\n",
        "# Helper libraries\n",
        "import numpy as np\n",
        "import matplotlib.pyplot as plt"
      ],
      "execution_count": 0,
      "outputs": []
    },
    {
      "metadata": {
        "id": "Hkmk6g6UiGRZ",
        "colab_type": "text"
      },
      "cell_type": "markdown",
      "source": [
        "Functions for imgs plotting"
      ]
    },
    {
      "metadata": {
        "id": "tLTKAw1mGS3Y",
        "colab_type": "code",
        "outputId": "e6016492-f7e2-4d02-81c9-859e4c0279e6",
        "colab": {
          "base_uri": "https://localhost:8080/",
          "height": 54
        }
      },
      "cell_type": "code",
      "source": [
        "def plot_image(i, predictions_array, true_label, img):\n",
        "  predictions_array, true_label, img = predictions_array[i], true_label[i], img[i]\n",
        "  plt.grid(False)\n",
        "  plt.xticks([])\n",
        "  plt.yticks([])\n",
        "  \n",
        "  plt.imshow(img, cmap=plt.cm.binary)\n",
        "\n",
        "  predicted_label = np.argmax(predictions_array)\n",
        "  if predicted_label == true_label:\n",
        "    color = 'blue'\n",
        "  else:\n",
        "    color = 'red'\n",
        "  \n",
        "  plt.xlabel(\"{} {:2.0f}% ({})\".format(class_names[predicted_label],\n",
        "                                100*np.max(predictions_array),\n",
        "                                class_names[true_label]),\n",
        "                                color=color)\n",
        "\n",
        "def plot_value_array(i, predictions_array, true_label):\n",
        "  predictions_array, true_label = predictions_array[i], true_label[i]\n",
        "  plt.grid(False)\n",
        "  plt.xticks([])\n",
        "  plt.yticks([])\n",
        "  thisplot = plt.bar(range(10), predictions_array, color=\"#777777\")\n",
        "  plt.ylim([0, 1]) \n",
        "  predicted_label = np.argmax(predictions_array)\n",
        " \n",
        "  thisplot[predicted_label].set_color('red')\n",
        "  thisplot[true_label].set_color('blue')\n",
        "  \n",
        "  \n",
        "\"\"\"\n",
        "#If you want to use it, move after fitting section\n",
        "predictions = model.predict(test_img)\n",
        "test_img_print = test_img[:,:,:,0]\n",
        "\n",
        "# Plot the first X test images, their predicted label, and the true label\n",
        "# Color correct predictions in blue, incorrect predictions in red\n",
        "num_rows = 5\n",
        "num_cols = 3\n",
        "num_images = num_rows*num_cols\n",
        "plt.figure(figsize=(2*2*num_cols, 2*num_rows))\n",
        "for i in range(num_images):\n",
        "  plt.subplot(num_rows, 2*num_cols, 2*i+1)\n",
        "  plot_image(i, predictions, test_labels, test_img_print)\n",
        "  plt.subplot(num_rows, 2*num_cols, 2*i+2)\n",
        "  plot_value_array(i, predictions, test_labels)\n",
        "plt.show()\n",
        "\"\"\""
      ],
      "execution_count": 2,
      "outputs": [
        {
          "output_type": "execute_result",
          "data": {
            "text/plain": [
              "'\\n#If you want to use it, move after fitting section\\npredictions = model.predict(test_img)\\ntest_img_print = test_img[:,:,:,0]\\n\\n# Plot the first X test images, their predicted label, and the true label\\n# Color correct predictions in blue, incorrect predictions in red\\nnum_rows = 5\\nnum_cols = 3\\nnum_images = num_rows*num_cols\\nplt.figure(figsize=(2*2*num_cols, 2*num_rows))\\nfor i in range(num_images):\\n  plt.subplot(num_rows, 2*num_cols, 2*i+1)\\n  plot_image(i, predictions, test_labels, test_img_print)\\n  plt.subplot(num_rows, 2*num_cols, 2*i+2)\\n  plot_value_array(i, predictions, test_labels)\\nplt.show()\\n'"
            ]
          },
          "metadata": {
            "tags": []
          },
          "execution_count": 2
        }
      ]
    },
    {
      "metadata": {
        "id": "rU7obrZkqVtc",
        "colab_type": "code",
        "colab": {}
      },
      "cell_type": "code",
      "source": [
        "def randomize(a, b):\n",
        "    # Generate the permutation index array.\n",
        "    s = np.arange(a.shape[0])\n",
        "    np.random.shuffle(s)\n",
        "    # Shuffle the arrays by giving the permutation in the square brackets.\n",
        "    shuffled_a = a[s]\n",
        "    shuffled_b = b[s]\n",
        "    return shuffled_a, shuffled_b"
      ],
      "execution_count": 0,
      "outputs": []
    },
    {
      "metadata": {
        "id": "F5PisKxnDefD",
        "colab_type": "code",
        "outputId": "444574c6-e71e-4687-a050-9ffbbe2b995a",
        "colab": {
          "base_uri": "https://localhost:8080/",
          "height": 190
        }
      },
      "cell_type": "code",
      "source": [
        "fashion_mnist = keras.datasets.fashion_mnist\n",
        "\n",
        "(train_img, train_labels), (test_img, test_labels) = fashion_mnist.load_data()\n",
        "\n",
        "train_img, train_labels = randomize(train_img, train_labels)\n",
        "\n",
        "\n",
        "class_names = ['T-shirt/top', 'Trouser', 'Pullover', 'Dress', 'Coat', \n",
        "               'Sandal', 'Shirt', 'Sneaker', 'Bag', 'Ankle boot']\n",
        "\n",
        "\"\"\"plt.figure()\n",
        "plt.imshow(train_images[0])\n",
        "plt.colorbar()\n",
        "plt.grid(False)\n",
        "plt.show()\"\"\"\n",
        "\n",
        "train_img = train_img / 255.0\n",
        "test_img = test_img / 255.0\n",
        "\n",
        "limit = int(len(train_img)*0.2)\n",
        "\n",
        "eval_img = train_img[:limit]\n",
        "eval_labels = train_labels[:limit]\n",
        "\n",
        "train_img = train_img[limit:]\n",
        "train_labels = train_labels[limit:]\n",
        "\n",
        "\n",
        "\n",
        "\"\"\"\n",
        "plt.figure(figsize=(10,10))\n",
        "for i in range(25):\n",
        "    plt.subplot(5,5,i+1)\n",
        "    plt.xticks([])\n",
        "    plt.yticks([])\n",
        "    plt.grid(False)\n",
        "    plt.imshow(train_images[i], cmap=plt.cm.binary)\n",
        "    plt.xlabel(class_names[train_labels[i]])\n",
        "plt.show()\n",
        "\"\"\""
      ],
      "execution_count": 4,
      "outputs": [
        {
          "output_type": "stream",
          "text": [
            "Downloading data from https://storage.googleapis.com/tensorflow/tf-keras-datasets/train-labels-idx1-ubyte.gz\n",
            "32768/29515 [=================================] - 0s 0us/step\n",
            "Downloading data from https://storage.googleapis.com/tensorflow/tf-keras-datasets/train-images-idx3-ubyte.gz\n",
            "26427392/26421880 [==============================] - 0s 0us/step\n",
            "Downloading data from https://storage.googleapis.com/tensorflow/tf-keras-datasets/t10k-labels-idx1-ubyte.gz\n",
            "8192/5148 [===============================================] - 0s 0us/step\n",
            "Downloading data from https://storage.googleapis.com/tensorflow/tf-keras-datasets/t10k-images-idx3-ubyte.gz\n",
            "4423680/4422102 [==============================] - 0s 0us/step\n"
          ],
          "name": "stdout"
        },
        {
          "output_type": "execute_result",
          "data": {
            "text/plain": [
              "'\\nplt.figure(figsize=(10,10))\\nfor i in range(25):\\n    plt.subplot(5,5,i+1)\\n    plt.xticks([])\\n    plt.yticks([])\\n    plt.grid(False)\\n    plt.imshow(train_images[i], cmap=plt.cm.binary)\\n    plt.xlabel(class_names[train_labels[i]])\\nplt.show()\\n'"
            ]
          },
          "metadata": {
            "tags": []
          },
          "execution_count": 4
        }
      ]
    },
    {
      "metadata": {
        "id": "4dufJsucEKMd",
        "colab_type": "code",
        "colab": {
          "base_uri": "https://localhost:8080/",
          "height": 139
        },
        "outputId": "987cd1c4-1a65-4912-ca0c-806de447afaa"
      },
      "cell_type": "code",
      "source": [
        "\n",
        "img_x, img_y = 28, 28\n",
        "\n",
        "train_img = train_img.reshape(train_img.shape[0], img_x, img_y, 1)\n",
        "eval_img = eval_img.reshape(eval_img.shape[0], img_x, img_y, 1)\n",
        "test_img = test_img.reshape(test_img.shape[0], img_x, img_y, 1)\n",
        "input_shape=(img_x, img_y, 1)\n",
        "\n",
        "model = keras.Sequential([\n",
        "    keras.layers.Conv2D(32, kernel_size=(5, 5), strides=(1, 1), input_shape=input_shape),\n",
        "    keras.layers.Activation(tf.nn.relu),\n",
        "    keras.layers.MaxPooling2D(pool_size=(2, 2), strides=(2, 2)),\n",
        "    keras.layers.Conv2D(64, (5, 5)),\n",
        "    keras.layers.Activation(tf.nn.relu),\n",
        "    keras.layers.SpatialDropout2D(0.5),\n",
        "    keras.layers.MaxPooling2D(pool_size=(2, 2)),\n",
        "    keras.layers.Flatten(),\n",
        "    keras.layers.Dense(128),\n",
        "    keras.layers.BatchNormalization(),\n",
        "    keras.layers.Activation(tf.nn.relu),\n",
        "    keras.layers.Dense(10),\n",
        "    keras.layers.BatchNormalization(),\n",
        "    keras.layers.Activation(tf.nn.softmax)\n",
        "])\n",
        "\n",
        "model.compile(optimizer='adam', \n",
        "              loss='sparse_categorical_crossentropy',\n",
        "              metrics=['accuracy'])"
      ],
      "execution_count": 5,
      "outputs": [
        {
          "output_type": "stream",
          "text": [
            "WARNING:tensorflow:From /usr/local/lib/python3.6/dist-packages/tensorflow/python/ops/resource_variable_ops.py:435: colocate_with (from tensorflow.python.framework.ops) is deprecated and will be removed in a future version.\n",
            "Instructions for updating:\n",
            "Colocations handled automatically by placer.\n",
            "WARNING:tensorflow:From /usr/local/lib/python3.6/dist-packages/tensorflow/python/keras/layers/core.py:143: calling dropout (from tensorflow.python.ops.nn_ops) with keep_prob is deprecated and will be removed in a future version.\n",
            "Instructions for updating:\n",
            "Please use `rate` instead of `keep_prob`. Rate should be set to `rate = 1 - keep_prob`.\n"
          ],
          "name": "stdout"
        }
      ]
    },
    {
      "metadata": {
        "id": "Qvxh3rolFfxk",
        "colab_type": "code",
        "outputId": "80c21793-166d-40b1-c82d-99b6a0e03a8d",
        "colab": {
          "base_uri": "https://localhost:8080/",
          "height": 1975
        }
      },
      "cell_type": "code",
      "source": [
        "batch_size = 128\n",
        "epochs = 200\n",
        "lr_dec = keras.callbacks.ReduceLROnPlateau(monitor='val_loss', factor=0.1, patience=2, verbose=1, mode='auto', min_delta=0.0001, cooldown=0, min_lr=0)\n",
        "early_stop = keras.callbacks.EarlyStopping(monitor='val_loss', min_delta=0.0001, patience=10, verbose=1, mode='auto', baseline=None, restore_best_weights=True)\n",
        "\n",
        "logs = model.fit(train_img, train_labels,\n",
        "          batch_size=batch_size,\n",
        "          epochs=epochs,\n",
        "          verbose=1,\n",
        "          validation_data=(eval_img, eval_labels),\n",
        "          callbacks=[lr_dec, early_stop]\n",
        "         )"
      ],
      "execution_count": 6,
      "outputs": [
        {
          "output_type": "stream",
          "text": [
            "Train on 48000 samples, validate on 12000 samples\n",
            "WARNING:tensorflow:From /usr/local/lib/python3.6/dist-packages/tensorflow/python/ops/math_ops.py:3066: to_int32 (from tensorflow.python.ops.math_ops) is deprecated and will be removed in a future version.\n",
            "Instructions for updating:\n",
            "Use tf.cast instead.\n",
            "Epoch 1/200\n",
            "48000/48000 [==============================] - 10s 200us/sample - loss: 0.7517 - acc: 0.8009 - val_loss: 0.8665 - val_acc: 0.8701\n",
            "Epoch 2/200\n",
            "48000/48000 [==============================] - 6s 119us/sample - loss: 0.4765 - acc: 0.8676 - val_loss: 0.3849 - val_acc: 0.8903\n",
            "Epoch 3/200\n",
            "48000/48000 [==============================] - 6s 118us/sample - loss: 0.3971 - acc: 0.8813 - val_loss: 0.3591 - val_acc: 0.8849\n",
            "Epoch 4/200\n",
            "48000/48000 [==============================] - 6s 122us/sample - loss: 0.3537 - acc: 0.8886 - val_loss: 0.2875 - val_acc: 0.9071\n",
            "Epoch 5/200\n",
            "48000/48000 [==============================] - 6s 121us/sample - loss: 0.3242 - acc: 0.8943 - val_loss: 0.2859 - val_acc: 0.9045\n",
            "Epoch 6/200\n",
            "48000/48000 [==============================] - 6s 119us/sample - loss: 0.3032 - acc: 0.8997 - val_loss: 0.2736 - val_acc: 0.9075\n",
            "Epoch 7/200\n",
            "48000/48000 [==============================] - 6s 120us/sample - loss: 0.2844 - acc: 0.9038 - val_loss: 0.2651 - val_acc: 0.9063\n",
            "Epoch 8/200\n",
            "48000/48000 [==============================] - 6s 125us/sample - loss: 0.2715 - acc: 0.9086 - val_loss: 0.2487 - val_acc: 0.9154\n",
            "Epoch 9/200\n",
            "48000/48000 [==============================] - 6s 122us/sample - loss: 0.2591 - acc: 0.9098 - val_loss: 0.2422 - val_acc: 0.9137\n",
            "Epoch 10/200\n",
            "48000/48000 [==============================] - 6s 121us/sample - loss: 0.2510 - acc: 0.9132 - val_loss: 0.2355 - val_acc: 0.9178\n",
            "Epoch 11/200\n",
            "48000/48000 [==============================] - 6s 118us/sample - loss: 0.2386 - acc: 0.9158 - val_loss: 0.2428 - val_acc: 0.9152\n",
            "Epoch 12/200\n",
            "47872/48000 [============================>.] - ETA: 0s - loss: 0.2328 - acc: 0.9179\n",
            "Epoch 00012: ReduceLROnPlateau reducing learning rate to 0.00010000000474974513.\n",
            "48000/48000 [==============================] - 6s 128us/sample - loss: 0.2327 - acc: 0.9179 - val_loss: 0.2510 - val_acc: 0.9087\n",
            "Epoch 13/200\n",
            "48000/48000 [==============================] - 6s 119us/sample - loss: 0.2038 - acc: 0.9296 - val_loss: 0.2183 - val_acc: 0.9227\n",
            "Epoch 14/200\n",
            "48000/48000 [==============================] - 6s 120us/sample - loss: 0.1913 - acc: 0.9335 - val_loss: 0.2152 - val_acc: 0.9240\n",
            "Epoch 15/200\n",
            "48000/48000 [==============================] - 6s 119us/sample - loss: 0.1888 - acc: 0.9347 - val_loss: 0.2138 - val_acc: 0.9241\n",
            "Epoch 16/200\n",
            "48000/48000 [==============================] - 6s 123us/sample - loss: 0.1844 - acc: 0.9353 - val_loss: 0.2174 - val_acc: 0.9223\n",
            "Epoch 17/200\n",
            "47744/48000 [============================>.] - ETA: 0s - loss: 0.1825 - acc: 0.9366\n",
            "Epoch 00017: ReduceLROnPlateau reducing learning rate to 1.0000000474974514e-05.\n",
            "48000/48000 [==============================] - 6s 117us/sample - loss: 0.1823 - acc: 0.9366 - val_loss: 0.2164 - val_acc: 0.9228\n",
            "Epoch 18/200\n",
            "48000/48000 [==============================] - 6s 119us/sample - loss: 0.1753 - acc: 0.9392 - val_loss: 0.2126 - val_acc: 0.9236\n",
            "Epoch 19/200\n",
            "48000/48000 [==============================] - 6s 122us/sample - loss: 0.1772 - acc: 0.9391 - val_loss: 0.2122 - val_acc: 0.9237\n",
            "Epoch 20/200\n",
            "48000/48000 [==============================] - 6s 121us/sample - loss: 0.1748 - acc: 0.9391 - val_loss: 0.2125 - val_acc: 0.9233\n",
            "Epoch 21/200\n",
            "48000/48000 [==============================] - 6s 123us/sample - loss: 0.1735 - acc: 0.9393 - val_loss: 0.2120 - val_acc: 0.9237\n",
            "Epoch 22/200\n",
            "48000/48000 [==============================] - 6s 118us/sample - loss: 0.1734 - acc: 0.9407 - val_loss: 0.2119 - val_acc: 0.9236\n",
            "Epoch 23/200\n",
            "48000/48000 [==============================] - 6s 119us/sample - loss: 0.1734 - acc: 0.9406 - val_loss: 0.2119 - val_acc: 0.9237\n",
            "Epoch 24/200\n",
            "47744/48000 [============================>.] - ETA: 0s - loss: 0.1706 - acc: 0.9408\n",
            "Epoch 00024: ReduceLROnPlateau reducing learning rate to 1.0000000656873453e-06.\n",
            "48000/48000 [==============================] - 6s 123us/sample - loss: 0.1705 - acc: 0.9408 - val_loss: 0.2119 - val_acc: 0.9241\n",
            "Epoch 25/200\n",
            "48000/48000 [==============================] - 6s 118us/sample - loss: 0.1731 - acc: 0.9404 - val_loss: 0.2118 - val_acc: 0.9240\n",
            "Epoch 26/200\n",
            "48000/48000 [==============================] - 6s 120us/sample - loss: 0.1725 - acc: 0.9399 - val_loss: 0.2120 - val_acc: 0.9236\n",
            "Epoch 27/200\n",
            "47744/48000 [============================>.] - ETA: 0s - loss: 0.1691 - acc: 0.9424\n",
            "Epoch 00027: ReduceLROnPlateau reducing learning rate to 1.0000001111620805e-07.\n",
            "48000/48000 [==============================] - 6s 127us/sample - loss: 0.1695 - acc: 0.9423 - val_loss: 0.2118 - val_acc: 0.9238\n",
            "Epoch 28/200\n",
            "48000/48000 [==============================] - 6s 117us/sample - loss: 0.1726 - acc: 0.9401 - val_loss: 0.2116 - val_acc: 0.9237\n",
            "Epoch 29/200\n",
            "48000/48000 [==============================] - 6s 119us/sample - loss: 0.1710 - acc: 0.9408 - val_loss: 0.2117 - val_acc: 0.9240\n",
            "Epoch 30/200\n",
            "47744/48000 [============================>.] - ETA: 0s - loss: 0.1741 - acc: 0.9402\n",
            "Epoch 00030: ReduceLROnPlateau reducing learning rate to 1.000000082740371e-08.\n",
            "48000/48000 [==============================] - 6s 121us/sample - loss: 0.1739 - acc: 0.9403 - val_loss: 0.2117 - val_acc: 0.9240\n",
            "Epoch 31/200\n",
            "48000/48000 [==============================] - 6s 124us/sample - loss: 0.1748 - acc: 0.9402 - val_loss: 0.2118 - val_acc: 0.9241\n",
            "Epoch 32/200\n",
            "47744/48000 [============================>.] - ETA: 0s - loss: 0.1721 - acc: 0.9411\n",
            "Epoch 00032: ReduceLROnPlateau reducing learning rate to 1.000000082740371e-09.\n",
            "48000/48000 [==============================] - 6s 118us/sample - loss: 0.1721 - acc: 0.9411 - val_loss: 0.2118 - val_acc: 0.9235\n",
            "Epoch 33/200\n",
            "48000/48000 [==============================] - 6s 118us/sample - loss: 0.1716 - acc: 0.9412 - val_loss: 0.2114 - val_acc: 0.9241\n",
            "Epoch 34/200\n",
            "48000/48000 [==============================] - 6s 125us/sample - loss: 0.1708 - acc: 0.9412 - val_loss: 0.2117 - val_acc: 0.9241\n",
            "Epoch 35/200\n",
            "47616/48000 [============================>.] - ETA: 0s - loss: 0.1718 - acc: 0.9416\n",
            "Epoch 00035: ReduceLROnPlateau reducing learning rate to 1.000000082740371e-10.\n",
            "48000/48000 [==============================] - 6s 119us/sample - loss: 0.1719 - acc: 0.9416 - val_loss: 0.2117 - val_acc: 0.9240\n",
            "Epoch 36/200\n",
            "48000/48000 [==============================] - 6s 121us/sample - loss: 0.1716 - acc: 0.9416 - val_loss: 0.2119 - val_acc: 0.9240\n",
            "Epoch 37/200\n",
            "47872/48000 [============================>.] - ETA: 0s - loss: 0.1721 - acc: 0.9403\n",
            "Epoch 00037: ReduceLROnPlateau reducing learning rate to 1.000000082740371e-11.\n",
            "48000/48000 [==============================] - 6s 118us/sample - loss: 0.1723 - acc: 0.9402 - val_loss: 0.2117 - val_acc: 0.9242\n",
            "Epoch 38/200\n",
            "48000/48000 [==============================] - 6s 126us/sample - loss: 0.1726 - acc: 0.9399 - val_loss: 0.2122 - val_acc: 0.9237\n",
            "Epoch 39/200\n",
            "47488/48000 [============================>.] - ETA: 0s - loss: 0.1711 - acc: 0.9412\n",
            "Epoch 00039: ReduceLROnPlateau reducing learning rate to 1.000000082740371e-12.\n",
            "48000/48000 [==============================] - 6s 118us/sample - loss: 0.1714 - acc: 0.9410 - val_loss: 0.2116 - val_acc: 0.9237\n",
            "Epoch 40/200\n",
            "48000/48000 [==============================] - 6s 120us/sample - loss: 0.1712 - acc: 0.9414 - val_loss: 0.2119 - val_acc: 0.9240\n",
            "Epoch 41/200\n",
            "47616/48000 [============================>.] - ETA: 0s - loss: 0.1733 - acc: 0.9394\n",
            "Epoch 00041: ReduceLROnPlateau reducing learning rate to 1.0000001044244145e-13.\n",
            "48000/48000 [==============================] - 6s 117us/sample - loss: 0.1733 - acc: 0.9395 - val_loss: 0.2118 - val_acc: 0.9237\n",
            "Epoch 42/200\n",
            "48000/48000 [==============================] - 6s 125us/sample - loss: 0.1730 - acc: 0.9403 - val_loss: 0.2116 - val_acc: 0.9242\n",
            "Epoch 43/200\n",
            "47872/48000 [============================>.] - ETA: 0s - loss: 0.1711 - acc: 0.9408\n",
            "Epoch 00043: ReduceLROnPlateau reducing learning rate to 1.0000001179769417e-14.\n",
            "Restoring model weights from the end of the best epoch.\n",
            "48000/48000 [==============================] - 6s 123us/sample - loss: 0.1713 - acc: 0.9406 - val_loss: 0.2119 - val_acc: 0.9238\n",
            "Epoch 00043: early stopping\n"
          ],
          "name": "stdout"
        }
      ]
    },
    {
      "metadata": {
        "id": "D4lfzUCKkudX",
        "colab_type": "code",
        "outputId": "3cc25e1c-84cc-4086-a176-6f85c6bad31d",
        "colab": {
          "base_uri": "https://localhost:8080/",
          "height": 51
        }
      },
      "cell_type": "code",
      "source": [
        "test_loss, test_acc = model.evaluate(test_img, test_labels)\n",
        "print('Test accuracy:', test_acc, \" Test loss:\", test_loss)"
      ],
      "execution_count": 7,
      "outputs": [
        {
          "output_type": "stream",
          "text": [
            "10000/10000 [==============================] - 1s 107us/sample - loss: 0.2316 - acc: 0.9169\n",
            "Test accuracy: 0.9169  Test loss: 0.23157818270921707\n"
          ],
          "name": "stdout"
        }
      ]
    },
    {
      "metadata": {
        "id": "Zwo1DrelnqUG",
        "colab_type": "code",
        "colab": {}
      },
      "cell_type": "code",
      "source": [
        "history = logs.history\n",
        "loss = history['loss']\n",
        "acc = history['acc']\n",
        "val_loss = history['val_loss']\n",
        "val_acc = history['val_acc']\n",
        "results = [(loss,'Training Loss'), (acc,'Training Accuracy'), (val_loss,'Validation Loss'), (val_acc,'Validation Accuracy')]"
      ],
      "execution_count": 0,
      "outputs": []
    },
    {
      "metadata": {
        "id": "xXBNkL826r7k",
        "colab_type": "code",
        "outputId": "1a5cc168-3ccb-4ed5-9700-d77c122120dc",
        "colab": {
          "base_uri": "https://localhost:8080/",
          "height": 297
        }
      },
      "cell_type": "code",
      "source": [
        "for i in range(len(results)):\n",
        "  plt.subplot(2,2,i+1)\n",
        "  plt.plot(range(0, len(results[i][0])), np.array(results[i][0]))\n",
        "  plt.xlabel('Epochs')\n",
        "  plt.ylabel(results[i][1])\n",
        "plt.tight_layout()\n",
        "plt.show()"
      ],
      "execution_count": 9,
      "outputs": [
        {
          "output_type": "display_data",
          "data": {
            "image/png": "[encoded data removed]",
            "text/plain": [
              "<Figure size 432x288 with 4 Axes>"
            ]
          },
          "metadata": {
            "tags": []
          }
        }
      ]
    }
  ]
}