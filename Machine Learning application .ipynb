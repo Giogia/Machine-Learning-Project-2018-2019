{
 "cells": [
  {
   "cell_type": "code",
   "execution_count": null,
   "metadata": {},
   "outputs": [],
   "source": [
    "import cv2 \n",
    "import os \n",
    "import glob\n",
    "import matplotlib.pyplot as plt\n",
    "import numpy as np\n",
    "from tensorflow import keras\n",
    "import tensorflow as tf"
   ]
  },
  {
   "cell_type": "markdown",
   "metadata": {},
   "source": [
    "# Function used later for plotting"
   ]
  },
  {
   "cell_type": "code",
   "execution_count": null,
   "metadata": {},
   "outputs": [],
   "source": [
    "class_names = ['T-shirt/top', 'Trouser', 'Pullover', 'Dress', 'Coat', \n",
    "               'Sandal', 'Shirt', 'Sneaker', 'Bag', 'Ankle boot']\n",
    "\n",
    "def plot_image(i, predictions_array, true_label, img):\n",
    "  predictions_array, true_label, img = predictions_array[i], true_label[i], img[i]\n",
    "  plt.grid(False)\n",
    "  plt.xticks([])\n",
    "  plt.yticks([])\n",
    "  \n",
    "  plt.imshow(img, cmap=plt.cm.binary)\n",
    "\n",
    "  predicted_label = np.argmax(predictions_array)\n",
    "  if predicted_label == true_label:\n",
    "    color = 'blue'\n",
    "  else:\n",
    "    color = 'red'\n",
    "  \n",
    "  plt.xlabel(\"{} {:2.0f}% ({})\".format(class_names[predicted_label],\n",
    "                                100*np.max(predictions_array),\n",
    "                                class_names[true_label]),\n",
    "                                color=color)\n",
    "\n",
    "def plot_value_array(i, predictions_array, true_label):\n",
    "  predictions_array, true_label = predictions_array[i], true_label[i]\n",
    "  plt.grid(False)\n",
    "  plt.xticks([])\n",
    "  plt.yticks([])\n",
    "  thisplot = plt.bar(range(10), predictions_array, color=\"#777777\")\n",
    "  plt.ylim([0, 1]) \n",
    "  predicted_label = np.argmax(predictions_array)\n",
    " \n",
    "  thisplot[predicted_label].set_color('red')\n",
    "  thisplot[true_label].set_color('blue')\n"
   ]
  },
  {
   "cell_type": "markdown",
   "metadata": {},
   "source": [
    "# Choose the dataset (easy, medium or hard)"
   ]
  },
  {
   "cell_type": "code",
   "execution_count": null,
   "metadata": {},
   "outputs": [],
   "source": [
    "flag = 0 # 0=easy, 1=medium, 2=hard \n",
    "\n",
    "if flag == 0:\n",
    "    dataset ='easy'\n",
    "    test_label = ['Bag', 'Dress', 'Trouser', 'Sneaker', 'T-shirt/top']\n",
    "elif flag == 1: \n",
    "    dataset = 'medium'\n",
    "    test_label = ['Ankle boot', 'Coat', 'Pullover', 'Sandal', 'Shirt']\n",
    "elif flag == 2:\n",
    "    dataset = 'hard'\n",
    "    test_label = ['Ankle boot', 'Bag', 'Dress', 'Trouser', 'T-shirt/top']\n",
    "else:\n",
    "    print(\"Dataset not present\")\n",
    "path = os.getcwd() + \"\\\\\" + dataset + \"\\\\\" + \"*.jpg\"\n",
    "test_img = glob.glob(path)\n",
    "for each in range(len(test_label)):\n",
    "    test_label[each] = class_names.index(test_label[each]) #usefull later for plotting"
   ]
  },
  {
   "cell_type": "markdown",
   "metadata": {},
   "source": [
    "# Here the greyscale and the resize is done \n"
   ]
  },
  {
   "cell_type": "code",
   "execution_count": null,
   "metadata": {
    "scrolled": true
   },
   "outputs": [],
   "source": [
    "testSet = []\n",
    "for each in test_img:\n",
    "    img = cv2.imread(each) #reading of the image\n",
    "    \n",
    "    #For visualization\n",
    "    plt.figure(figsize=(10,4))\n",
    "    \n",
    "    size = (28, 28) # size of the input for the CNN\n",
    "    img_g = cv2.resize(img, size)  # resize of the image\n",
    "    img_g = cv2.bitwise_not(img_g)\n",
    "    img_g = cv2.cvtColor(img_g, cv2.COLOR_BGR2GRAY) / 255 # greyscale\n",
    "    testSet.append(img_g)\n",
    "    \n",
    "    plt.subplot(1,2,1)\n",
    "    # used to show the original image\n",
    "    img_rgb = cv2.cvtColor(img, cv2.COLOR_BGR2RGB)\n",
    "    plt.imshow(img_rgb)\n",
    "    plt.colorbar()\n",
    "    plt.grid(False)\n",
    "    \n",
    "    #For visualization\n",
    "    plt.subplot(1,2,2)\n",
    "    plt.imshow(img_g,  cmap=plt.cm.binary)\n",
    "    plt.colorbar()\n",
    "    plt.grid(False)\n",
    "    plt.show()   \n",
    "    \n",
    "testSet = np.array(testSet) #normalization of the images\n",
    "IMG_X, IMG_Y = size\n",
    "testSet = testSet.reshape(testSet.shape[0], IMG_X, IMG_Y, 1) #reshape needed for fetch it to the CNN input"
   ]
  },
  {
   "cell_type": "markdown",
   "metadata": {},
   "source": [
    "# Model of the CNN + NN and weights load"
   ]
  },
  {
   "cell_type": "code",
   "execution_count": null,
   "metadata": {},
   "outputs": [],
   "source": [
    "input_shape = (IMG_X, IMG_Y, 1)\n",
    "model = keras.Sequential([\n",
    "    #structure 1 --> 92.5 val accuracy\n",
    "    keras.layers.Conv2D(64, kernel_size=(3, 3), activation='relu',padding='same',input_shape=input_shape),\n",
    "    keras.layers.Conv2D(64, kernel_size=(3, 3), activation='relu',padding='same'),\n",
    "    keras.layers.MaxPooling2D(pool_size=(2, 2),strides=2),\n",
    "    keras.layers.Dropout(0.6),\n",
    "    \n",
    "    keras.layers.Conv2D(128, kernel_size=(2, 2), activation='relu'), \n",
    "    keras.layers.Conv2D(128, kernel_size=(2, 2), activation='relu'),\n",
    "    keras.layers.BatchNormalization(),\n",
    "    keras.layers.MaxPooling2D(pool_size=(2, 2),strides=1),\n",
    "    keras.layers.Dropout(0.6),\n",
    "    \n",
    "    keras.layers.Conv2D(256, kernel_size=(3, 3), activation='relu'),\n",
    "    keras.layers.Conv2D(512, kernel_size=(4, 4), activation='relu'),\n",
    "    keras.layers.BatchNormalization(),\n",
    "    keras.layers.MaxPooling2D(pool_size=(2, 2),strides=1),\n",
    "    keras.layers.Dropout(0.8),\n",
    "    \n",
    "    keras.layers.Flatten(name='final'),\n",
    "    keras.layers.Dense(256),\n",
    "    keras.layers.BatchNormalization(),\n",
    "    keras.layers.Activation(tf.nn.relu),\n",
    "    keras.layers.Dense(128),\n",
    "    keras.layers.BatchNormalization(),\n",
    "    keras.layers.Activation(tf.nn.relu),\n",
    "    keras.layers.Dense(64),\n",
    "    keras.layers.BatchNormalization(),\n",
    "    keras.layers.Activation(tf.nn.relu),\n",
    "    keras.layers.Dense(32),\n",
    "    keras.layers.BatchNormalization(),\n",
    "    keras.layers.Activation(tf.nn.relu),\n",
    "    keras.layers.Dense(10),\n",
    "    keras.layers.BatchNormalization(),\n",
    "    keras.layers.Activation(tf.nn.softmax)\n",
    "])\n",
    "\n",
    "model.load_weights('total_model.h5')"
   ]
  },
  {
   "cell_type": "markdown",
   "metadata": {},
   "source": [
    "# Prediction "
   ]
  },
  {
   "cell_type": "code",
   "execution_count": null,
   "metadata": {},
   "outputs": [],
   "source": [
    "predictions = model.predict(testSet)\n",
    "testSet = np.squeeze(testSet) # we need to remove the dimension of the batch in order to plot the data\n",
    "for each in range(len(testSet)):\n",
    "    plt.figure(figsize=(10,4))\n",
    "    plt.subplot(1,2,1)\n",
    "    plot_image(each, predictions, test_label, testSet)\n",
    "    plt.subplot(1,2,2)\n",
    "    plot_value_array(each, predictions,  test_label)\n",
    "    plt.show()"
   ]
  },
  {
   "cell_type": "code",
   "execution_count": null,
   "metadata": {},
   "outputs": [],
   "source": []
  }
 ],
 "metadata": {
  "kernelspec": {
   "display_name": "Python 3",
   "language": "python",
   "name": "python3"
  },
  "language_info": {
   "codemirror_mode": {
    "name": "ipython",
    "version": 3
   },
   "file_extension": ".py",
   "mimetype": "text/x-python",
   "name": "python",
   "nbconvert_exporter": "python",
   "pygments_lexer": "ipython3",
   "version": "3.5.0"
  }
 },
 "nbformat": 4,
 "nbformat_minor": 2
}
